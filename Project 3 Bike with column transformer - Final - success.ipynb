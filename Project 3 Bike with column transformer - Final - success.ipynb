{
 "cells": [
  {
   "cell_type": "code",
   "execution_count": 85,
   "id": "aefea942",
   "metadata": {},
   "outputs": [],
   "source": [
    "import pandas as pd\n",
    "import numpy as np\n",
    "import seaborn as sns\n",
    "import matplotlib.pyplot as plt\n",
    "from sklearn.linear_model import LogisticRegression\n",
    "from sklearn.linear_model import LinearRegression\n",
    "from sklearn.dummy import DummyClassifier\n",
    "from sklearn.model_selection import cross_val_score\n",
    "from sklearn.model_selection import GridSearchCV\n",
    "from sklearn.model_selection import train_test_split\n",
    "from sklearn.compose import ColumnTransformer\n",
    "from sklearn.ensemble import RandomForestRegressor\n",
    "from sklearn.preprocessing import FunctionTransformer\n",
    "from sklearn.pipeline import Pipeline\n",
    "from sklearn.preprocessing import OneHotEncoder\n",
    "from sklearn.impute import SimpleImputer\n",
    "from sklearn.preprocessing import StandardScaler\n",
    "from sklearn.metrics import confusion_matrix, classification_report,accuracy_score,mean_squared_log_error"
   ]
  },
  {
   "cell_type": "code",
   "execution_count": 86,
   "id": "3d414b41",
   "metadata": {},
   "outputs": [],
   "source": [
    "bike=pd.read_csv('bike_train.csv', parse_dates=True, index_col=0 )"
   ]
  },
  {
   "cell_type": "code",
   "execution_count": 87,
   "id": "53fc127e",
   "metadata": {},
   "outputs": [
    {
     "data": {
      "text/html": [
       "<div>\n",
       "<style scoped>\n",
       "    .dataframe tbody tr th:only-of-type {\n",
       "        vertical-align: middle;\n",
       "    }\n",
       "\n",
       "    .dataframe tbody tr th {\n",
       "        vertical-align: top;\n",
       "    }\n",
       "\n",
       "    .dataframe thead th {\n",
       "        text-align: right;\n",
       "    }\n",
       "</style>\n",
       "<table border=\"1\" class=\"dataframe\">\n",
       "  <thead>\n",
       "    <tr style=\"text-align: right;\">\n",
       "      <th></th>\n",
       "      <th>season</th>\n",
       "      <th>holiday</th>\n",
       "      <th>workingday</th>\n",
       "      <th>weather</th>\n",
       "      <th>temp</th>\n",
       "      <th>atemp</th>\n",
       "      <th>humidity</th>\n",
       "      <th>windspeed</th>\n",
       "      <th>casual</th>\n",
       "      <th>registered</th>\n",
       "      <th>count</th>\n",
       "    </tr>\n",
       "    <tr>\n",
       "      <th>datetime</th>\n",
       "      <th></th>\n",
       "      <th></th>\n",
       "      <th></th>\n",
       "      <th></th>\n",
       "      <th></th>\n",
       "      <th></th>\n",
       "      <th></th>\n",
       "      <th></th>\n",
       "      <th></th>\n",
       "      <th></th>\n",
       "      <th></th>\n",
       "    </tr>\n",
       "  </thead>\n",
       "  <tbody>\n",
       "    <tr>\n",
       "      <th>2011-01-01 00:00:00</th>\n",
       "      <td>1</td>\n",
       "      <td>0</td>\n",
       "      <td>0</td>\n",
       "      <td>1</td>\n",
       "      <td>9.84</td>\n",
       "      <td>14.395</td>\n",
       "      <td>81</td>\n",
       "      <td>0.0</td>\n",
       "      <td>3</td>\n",
       "      <td>13</td>\n",
       "      <td>16</td>\n",
       "    </tr>\n",
       "    <tr>\n",
       "      <th>2011-01-01 01:00:00</th>\n",
       "      <td>1</td>\n",
       "      <td>0</td>\n",
       "      <td>0</td>\n",
       "      <td>1</td>\n",
       "      <td>9.02</td>\n",
       "      <td>13.635</td>\n",
       "      <td>80</td>\n",
       "      <td>0.0</td>\n",
       "      <td>8</td>\n",
       "      <td>32</td>\n",
       "      <td>40</td>\n",
       "    </tr>\n",
       "    <tr>\n",
       "      <th>2011-01-01 02:00:00</th>\n",
       "      <td>1</td>\n",
       "      <td>0</td>\n",
       "      <td>0</td>\n",
       "      <td>1</td>\n",
       "      <td>9.02</td>\n",
       "      <td>13.635</td>\n",
       "      <td>80</td>\n",
       "      <td>0.0</td>\n",
       "      <td>5</td>\n",
       "      <td>27</td>\n",
       "      <td>32</td>\n",
       "    </tr>\n",
       "    <tr>\n",
       "      <th>2011-01-01 03:00:00</th>\n",
       "      <td>1</td>\n",
       "      <td>0</td>\n",
       "      <td>0</td>\n",
       "      <td>1</td>\n",
       "      <td>9.84</td>\n",
       "      <td>14.395</td>\n",
       "      <td>75</td>\n",
       "      <td>0.0</td>\n",
       "      <td>3</td>\n",
       "      <td>10</td>\n",
       "      <td>13</td>\n",
       "    </tr>\n",
       "    <tr>\n",
       "      <th>2011-01-01 04:00:00</th>\n",
       "      <td>1</td>\n",
       "      <td>0</td>\n",
       "      <td>0</td>\n",
       "      <td>1</td>\n",
       "      <td>9.84</td>\n",
       "      <td>14.395</td>\n",
       "      <td>75</td>\n",
       "      <td>0.0</td>\n",
       "      <td>0</td>\n",
       "      <td>1</td>\n",
       "      <td>1</td>\n",
       "    </tr>\n",
       "  </tbody>\n",
       "</table>\n",
       "</div>"
      ],
      "text/plain": [
       "                     season  holiday  workingday  weather  temp   atemp  \\\n",
       "datetime                                                                  \n",
       "2011-01-01 00:00:00       1        0           0        1  9.84  14.395   \n",
       "2011-01-01 01:00:00       1        0           0        1  9.02  13.635   \n",
       "2011-01-01 02:00:00       1        0           0        1  9.02  13.635   \n",
       "2011-01-01 03:00:00       1        0           0        1  9.84  14.395   \n",
       "2011-01-01 04:00:00       1        0           0        1  9.84  14.395   \n",
       "\n",
       "                     humidity  windspeed  casual  registered  count  \n",
       "datetime                                                             \n",
       "2011-01-01 00:00:00        81        0.0       3          13     16  \n",
       "2011-01-01 01:00:00        80        0.0       8          32     40  \n",
       "2011-01-01 02:00:00        80        0.0       5          27     32  \n",
       "2011-01-01 03:00:00        75        0.0       3          10     13  \n",
       "2011-01-01 04:00:00        75        0.0       0           1      1  "
      ]
     },
     "execution_count": 87,
     "metadata": {},
     "output_type": "execute_result"
    }
   ],
   "source": [
    "bike.head() "
   ]
  },
  {
   "cell_type": "code",
   "execution_count": 6,
   "id": "fb567328",
   "metadata": {},
   "outputs": [],
   "source": [
    "X=bike.copy()"
   ]
  },
  {
   "cell_type": "code",
   "execution_count": 7,
   "id": "9b3b0c3b",
   "metadata": {},
   "outputs": [],
   "source": [
    "X.drop(['casual','registered','count'],axis=1,inplace=True)"
   ]
  },
  {
   "cell_type": "code",
   "execution_count": 8,
   "id": "8a1f2c01",
   "metadata": {
    "scrolled": true
   },
   "outputs": [
    {
     "data": {
      "text/html": [
       "<div>\n",
       "<style scoped>\n",
       "    .dataframe tbody tr th:only-of-type {\n",
       "        vertical-align: middle;\n",
       "    }\n",
       "\n",
       "    .dataframe tbody tr th {\n",
       "        vertical-align: top;\n",
       "    }\n",
       "\n",
       "    .dataframe thead th {\n",
       "        text-align: right;\n",
       "    }\n",
       "</style>\n",
       "<table border=\"1\" class=\"dataframe\">\n",
       "  <thead>\n",
       "    <tr style=\"text-align: right;\">\n",
       "      <th></th>\n",
       "      <th>season</th>\n",
       "      <th>holiday</th>\n",
       "      <th>workingday</th>\n",
       "      <th>weather</th>\n",
       "      <th>temp</th>\n",
       "      <th>atemp</th>\n",
       "      <th>humidity</th>\n",
       "      <th>windspeed</th>\n",
       "    </tr>\n",
       "    <tr>\n",
       "      <th>datetime</th>\n",
       "      <th></th>\n",
       "      <th></th>\n",
       "      <th></th>\n",
       "      <th></th>\n",
       "      <th></th>\n",
       "      <th></th>\n",
       "      <th></th>\n",
       "      <th></th>\n",
       "    </tr>\n",
       "  </thead>\n",
       "  <tbody>\n",
       "    <tr>\n",
       "      <th>2011-01-01 00:00:00</th>\n",
       "      <td>1</td>\n",
       "      <td>0</td>\n",
       "      <td>0</td>\n",
       "      <td>1</td>\n",
       "      <td>9.84</td>\n",
       "      <td>14.395</td>\n",
       "      <td>81</td>\n",
       "      <td>0.0000</td>\n",
       "    </tr>\n",
       "    <tr>\n",
       "      <th>2011-01-01 01:00:00</th>\n",
       "      <td>1</td>\n",
       "      <td>0</td>\n",
       "      <td>0</td>\n",
       "      <td>1</td>\n",
       "      <td>9.02</td>\n",
       "      <td>13.635</td>\n",
       "      <td>80</td>\n",
       "      <td>0.0000</td>\n",
       "    </tr>\n",
       "    <tr>\n",
       "      <th>2011-01-01 02:00:00</th>\n",
       "      <td>1</td>\n",
       "      <td>0</td>\n",
       "      <td>0</td>\n",
       "      <td>1</td>\n",
       "      <td>9.02</td>\n",
       "      <td>13.635</td>\n",
       "      <td>80</td>\n",
       "      <td>0.0000</td>\n",
       "    </tr>\n",
       "    <tr>\n",
       "      <th>2011-01-01 03:00:00</th>\n",
       "      <td>1</td>\n",
       "      <td>0</td>\n",
       "      <td>0</td>\n",
       "      <td>1</td>\n",
       "      <td>9.84</td>\n",
       "      <td>14.395</td>\n",
       "      <td>75</td>\n",
       "      <td>0.0000</td>\n",
       "    </tr>\n",
       "    <tr>\n",
       "      <th>2011-01-01 04:00:00</th>\n",
       "      <td>1</td>\n",
       "      <td>0</td>\n",
       "      <td>0</td>\n",
       "      <td>1</td>\n",
       "      <td>9.84</td>\n",
       "      <td>14.395</td>\n",
       "      <td>75</td>\n",
       "      <td>0.0000</td>\n",
       "    </tr>\n",
       "    <tr>\n",
       "      <th>...</th>\n",
       "      <td>...</td>\n",
       "      <td>...</td>\n",
       "      <td>...</td>\n",
       "      <td>...</td>\n",
       "      <td>...</td>\n",
       "      <td>...</td>\n",
       "      <td>...</td>\n",
       "      <td>...</td>\n",
       "    </tr>\n",
       "    <tr>\n",
       "      <th>2012-12-19 19:00:00</th>\n",
       "      <td>4</td>\n",
       "      <td>0</td>\n",
       "      <td>1</td>\n",
       "      <td>1</td>\n",
       "      <td>15.58</td>\n",
       "      <td>19.695</td>\n",
       "      <td>50</td>\n",
       "      <td>26.0027</td>\n",
       "    </tr>\n",
       "    <tr>\n",
       "      <th>2012-12-19 20:00:00</th>\n",
       "      <td>4</td>\n",
       "      <td>0</td>\n",
       "      <td>1</td>\n",
       "      <td>1</td>\n",
       "      <td>14.76</td>\n",
       "      <td>17.425</td>\n",
       "      <td>57</td>\n",
       "      <td>15.0013</td>\n",
       "    </tr>\n",
       "    <tr>\n",
       "      <th>2012-12-19 21:00:00</th>\n",
       "      <td>4</td>\n",
       "      <td>0</td>\n",
       "      <td>1</td>\n",
       "      <td>1</td>\n",
       "      <td>13.94</td>\n",
       "      <td>15.910</td>\n",
       "      <td>61</td>\n",
       "      <td>15.0013</td>\n",
       "    </tr>\n",
       "    <tr>\n",
       "      <th>2012-12-19 22:00:00</th>\n",
       "      <td>4</td>\n",
       "      <td>0</td>\n",
       "      <td>1</td>\n",
       "      <td>1</td>\n",
       "      <td>13.94</td>\n",
       "      <td>17.425</td>\n",
       "      <td>61</td>\n",
       "      <td>6.0032</td>\n",
       "    </tr>\n",
       "    <tr>\n",
       "      <th>2012-12-19 23:00:00</th>\n",
       "      <td>4</td>\n",
       "      <td>0</td>\n",
       "      <td>1</td>\n",
       "      <td>1</td>\n",
       "      <td>13.12</td>\n",
       "      <td>16.665</td>\n",
       "      <td>66</td>\n",
       "      <td>8.9981</td>\n",
       "    </tr>\n",
       "  </tbody>\n",
       "</table>\n",
       "<p>10886 rows × 8 columns</p>\n",
       "</div>"
      ],
      "text/plain": [
       "                     season  holiday  workingday  weather   temp   atemp  \\\n",
       "datetime                                                                   \n",
       "2011-01-01 00:00:00       1        0           0        1   9.84  14.395   \n",
       "2011-01-01 01:00:00       1        0           0        1   9.02  13.635   \n",
       "2011-01-01 02:00:00       1        0           0        1   9.02  13.635   \n",
       "2011-01-01 03:00:00       1        0           0        1   9.84  14.395   \n",
       "2011-01-01 04:00:00       1        0           0        1   9.84  14.395   \n",
       "...                     ...      ...         ...      ...    ...     ...   \n",
       "2012-12-19 19:00:00       4        0           1        1  15.58  19.695   \n",
       "2012-12-19 20:00:00       4        0           1        1  14.76  17.425   \n",
       "2012-12-19 21:00:00       4        0           1        1  13.94  15.910   \n",
       "2012-12-19 22:00:00       4        0           1        1  13.94  17.425   \n",
       "2012-12-19 23:00:00       4        0           1        1  13.12  16.665   \n",
       "\n",
       "                     humidity  windspeed  \n",
       "datetime                                  \n",
       "2011-01-01 00:00:00        81     0.0000  \n",
       "2011-01-01 01:00:00        80     0.0000  \n",
       "2011-01-01 02:00:00        80     0.0000  \n",
       "2011-01-01 03:00:00        75     0.0000  \n",
       "2011-01-01 04:00:00        75     0.0000  \n",
       "...                       ...        ...  \n",
       "2012-12-19 19:00:00        50    26.0027  \n",
       "2012-12-19 20:00:00        57    15.0013  \n",
       "2012-12-19 21:00:00        61    15.0013  \n",
       "2012-12-19 22:00:00        61     6.0032  \n",
       "2012-12-19 23:00:00        66     8.9981  \n",
       "\n",
       "[10886 rows x 8 columns]"
      ]
     },
     "execution_count": 8,
     "metadata": {},
     "output_type": "execute_result"
    }
   ],
   "source": [
    "#X = X.reset_index(level=0)\n",
    "#X['year'] = X['datetime'].dt.year\n",
    "X"
   ]
  },
  {
   "cell_type": "code",
   "execution_count": 9,
   "id": "bc3e9357",
   "metadata": {
    "scrolled": true
   },
   "outputs": [
    {
     "data": {
      "text/plain": [
       "datetime\n",
       "2011-01-01 00:00:00     16\n",
       "2011-01-01 01:00:00     40\n",
       "2011-01-01 02:00:00     32\n",
       "2011-01-01 03:00:00     13\n",
       "2011-01-01 04:00:00      1\n",
       "                      ... \n",
       "2012-12-19 19:00:00    336\n",
       "2012-12-19 20:00:00    241\n",
       "2012-12-19 21:00:00    168\n",
       "2012-12-19 22:00:00    129\n",
       "2012-12-19 23:00:00     88\n",
       "Name: count, Length: 10886, dtype: int64"
      ]
     },
     "execution_count": 9,
     "metadata": {},
     "output_type": "execute_result"
    }
   ],
   "source": [
    "y = bike.copy()\n",
    "y = y['count']\n",
    "#y = y.reset_index(level=0)\n",
    "y"
   ]
  },
  {
   "cell_type": "code",
   "execution_count": 10,
   "id": "cd07d319",
   "metadata": {},
   "outputs": [],
   "source": [
    "categorical_features=['season','holiday','workingday','weather']\n",
    "numerical_features= ['temp','atemp','humidity','windspeed']"
   ]
  },
  {
   "cell_type": "code",
   "execution_count": 11,
   "id": "371541d9",
   "metadata": {},
   "outputs": [],
   "source": [
    "def day_period_dataframe(X):\n",
    "    X = pd.DataFrame(X).copy()\n",
    "    \n",
    "    X[\"day_period\"]=X[\"hour\"].apply(day_period)\n",
    "    return X"
   ]
  },
  {
   "cell_type": "code",
   "execution_count": 12,
   "id": "04f19f04",
   "metadata": {},
   "outputs": [],
   "source": [
    "def day_period(hour):\n",
    "    label=None\n",
    "    if hour>=22 or hour<4 or hour==0:\n",
    "        label=\"night\"\n",
    "    elif hour<10:\n",
    "        label=\"morning\"\n",
    "    elif hour<16:\n",
    "        label=\"afternoon\"\n",
    "    else:\n",
    "        label=\"evening\"\n",
    "    return label"
   ]
  },
  {
   "cell_type": "code",
   "execution_count": 13,
   "id": "9d8998fe",
   "metadata": {},
   "outputs": [],
   "source": [
    "def timebreakdown (X):\n",
    "    X = pd.DataFrame(X).copy()\n",
    "    \n",
    "    X['year'] = X.index.year\n",
    "    X['month'] = X.index.month\n",
    "    X['weekday'] = X.index.day_name()\n",
    "    X['hour'] = X.index.hour\n",
    "\n",
    "    \n",
    "    return X"
   ]
  },
  {
   "cell_type": "code",
   "execution_count": 14,
   "id": "bc0ab1ca",
   "metadata": {},
   "outputs": [],
   "source": [
    "timebreakdown_step = FunctionTransformer(timebreakdown)"
   ]
  },
  {
   "cell_type": "code",
   "execution_count": 15,
   "id": "d40eb727",
   "metadata": {},
   "outputs": [],
   "source": [
    "day_period_step = FunctionTransformer(day_period_dataframe)"
   ]
  },
  {
   "cell_type": "code",
   "execution_count": 65,
   "id": "fcda0d7b",
   "metadata": {},
   "outputs": [],
   "source": [
    "# now we define the steps we need to do for both groups of columns\n",
    "categorical_steps = [('timebreakdown', timebreakdown_step),\n",
    "                     ('day_period_step', day_period_step),\n",
    "                     ('onehot', OneHotEncoder(handle_unknown='ignore'))]"
   ]
  },
  {
   "cell_type": "code",
   "execution_count": 66,
   "id": "b558799c",
   "metadata": {},
   "outputs": [
    {
     "data": {
      "text/plain": [
       "Pipeline(steps=[('timebreakdown',\n",
       "                 FunctionTransformer(func=<function timebreakdown at 0x7ff4db9f9d30>)),\n",
       "                ('day_period_step',\n",
       "                 FunctionTransformer(func=<function day_period_dataframe at 0x7ff4db9f9550>)),\n",
       "                ('onehot', OneHotEncoder(handle_unknown='ignore'))])"
      ]
     },
     "execution_count": 66,
     "metadata": {},
     "output_type": "execute_result"
    }
   ],
   "source": [
    "#sub pipeline 1\n",
    "categorical_transformer = Pipeline(categorical_steps)\n",
    "categorical_transformer"
   ]
  },
  {
   "cell_type": "code",
   "execution_count": 67,
   "id": "3ee308fa",
   "metadata": {},
   "outputs": [
    {
     "data": {
      "text/plain": [
       "Pipeline(steps=[('imputer', SimpleImputer(strategy='median')),\n",
       "                ('scaler', StandardScaler())])"
      ]
     },
     "execution_count": 67,
     "metadata": {},
     "output_type": "execute_result"
    }
   ],
   "source": [
    "# sub-pipeline 2\n",
    "numeric_steps = [('imputer', SimpleImputer(strategy='median')), \n",
    "                 ('scaler', StandardScaler())]\n",
    "\n",
    "numeric_transformer  = Pipeline(numeric_steps)\n",
    "numeric_transformer"
   ]
  },
  {
   "cell_type": "code",
   "execution_count": 68,
   "id": "bdf7dff4",
   "metadata": {},
   "outputs": [],
   "source": [
    "#combining both pipelines\n",
    "preprocessor = ColumnTransformer(transformers=[\n",
    "        ('numeric', numeric_transformer, numerical_features),\n",
    "        ('categorical', categorical_transformer, categorical_features)])\n"
   ]
  },
  {
   "cell_type": "code",
   "execution_count": 69,
   "id": "aa357d32",
   "metadata": {},
   "outputs": [],
   "source": [
    "final_steps = [('preprocessor', preprocessor),\n",
    "     ('LinReg', LinearRegression())]"
   ]
  },
  {
   "cell_type": "code",
   "execution_count": 70,
   "id": "7e623092",
   "metadata": {},
   "outputs": [],
   "source": [
    "pipeline = Pipeline(final_steps)"
   ]
  },
  {
   "cell_type": "code",
   "execution_count": 71,
   "id": "d4c95e18",
   "metadata": {},
   "outputs": [
    {
     "data": {
      "text/plain": [
       "Pipeline(steps=[('preprocessor',\n",
       "                 ColumnTransformer(transformers=[('numeric',\n",
       "                                                  Pipeline(steps=[('imputer',\n",
       "                                                                   SimpleImputer(strategy='median')),\n",
       "                                                                  ('scaler',\n",
       "                                                                   StandardScaler())]),\n",
       "                                                  ['temp', 'atemp', 'humidity',\n",
       "                                                   'windspeed']),\n",
       "                                                 ('categorical',\n",
       "                                                  Pipeline(steps=[('timebreakdown',\n",
       "                                                                   FunctionTransformer(func=<function timebreakdown at 0x7ff4db9f9d30>)),\n",
       "                                                                  ('day_period_step',\n",
       "                                                                   FunctionTransformer(func=<function day_period_dataframe at 0x7ff4db9f9550>)),\n",
       "                                                                  ('onehot',\n",
       "                                                                   OneHotEncoder(handle_unknown='ignore'))]),\n",
       "                                                  ['season', 'holiday',\n",
       "                                                   'workingday',\n",
       "                                                   'weather'])])),\n",
       "                ('LinReg', LinearRegression())])"
      ]
     },
     "execution_count": 71,
     "metadata": {},
     "output_type": "execute_result"
    }
   ],
   "source": [
    "pipeline"
   ]
  },
  {
   "cell_type": "code",
   "execution_count": 72,
   "id": "8025ac39",
   "metadata": {},
   "outputs": [],
   "source": [
    "X_train, X_test, y_train, y_test = train_test_split(X, y, \n",
    "                                    test_size = 0.2, random_state=42)"
   ]
  },
  {
   "cell_type": "code",
   "execution_count": 73,
   "id": "0dc07872",
   "metadata": {
    "scrolled": true
   },
   "outputs": [
    {
     "data": {
      "text/html": [
       "<div>\n",
       "<style scoped>\n",
       "    .dataframe tbody tr th:only-of-type {\n",
       "        vertical-align: middle;\n",
       "    }\n",
       "\n",
       "    .dataframe tbody tr th {\n",
       "        vertical-align: top;\n",
       "    }\n",
       "\n",
       "    .dataframe thead th {\n",
       "        text-align: right;\n",
       "    }\n",
       "</style>\n",
       "<table border=\"1\" class=\"dataframe\">\n",
       "  <thead>\n",
       "    <tr style=\"text-align: right;\">\n",
       "      <th></th>\n",
       "      <th>season</th>\n",
       "      <th>holiday</th>\n",
       "      <th>workingday</th>\n",
       "      <th>weather</th>\n",
       "      <th>temp</th>\n",
       "      <th>atemp</th>\n",
       "      <th>humidity</th>\n",
       "      <th>windspeed</th>\n",
       "    </tr>\n",
       "    <tr>\n",
       "      <th>datetime</th>\n",
       "      <th></th>\n",
       "      <th></th>\n",
       "      <th></th>\n",
       "      <th></th>\n",
       "      <th></th>\n",
       "      <th></th>\n",
       "      <th></th>\n",
       "      <th></th>\n",
       "    </tr>\n",
       "  </thead>\n",
       "  <tbody>\n",
       "    <tr>\n",
       "      <th>2011-07-06 05:00:00</th>\n",
       "      <td>3</td>\n",
       "      <td>0</td>\n",
       "      <td>1</td>\n",
       "      <td>1</td>\n",
       "      <td>27.88</td>\n",
       "      <td>31.820</td>\n",
       "      <td>83</td>\n",
       "      <td>6.0032</td>\n",
       "    </tr>\n",
       "    <tr>\n",
       "      <th>2012-08-04 16:00:00</th>\n",
       "      <td>3</td>\n",
       "      <td>0</td>\n",
       "      <td>0</td>\n",
       "      <td>1</td>\n",
       "      <td>36.90</td>\n",
       "      <td>40.910</td>\n",
       "      <td>39</td>\n",
       "      <td>19.9995</td>\n",
       "    </tr>\n",
       "    <tr>\n",
       "      <th>2012-07-11 15:00:00</th>\n",
       "      <td>3</td>\n",
       "      <td>0</td>\n",
       "      <td>1</td>\n",
       "      <td>1</td>\n",
       "      <td>32.80</td>\n",
       "      <td>35.605</td>\n",
       "      <td>41</td>\n",
       "      <td>16.9979</td>\n",
       "    </tr>\n",
       "    <tr>\n",
       "      <th>2011-04-10 04:00:00</th>\n",
       "      <td>2</td>\n",
       "      <td>0</td>\n",
       "      <td>0</td>\n",
       "      <td>2</td>\n",
       "      <td>14.76</td>\n",
       "      <td>18.180</td>\n",
       "      <td>93</td>\n",
       "      <td>7.0015</td>\n",
       "    </tr>\n",
       "    <tr>\n",
       "      <th>2011-11-19 10:00:00</th>\n",
       "      <td>4</td>\n",
       "      <td>0</td>\n",
       "      <td>0</td>\n",
       "      <td>1</td>\n",
       "      <td>13.12</td>\n",
       "      <td>15.150</td>\n",
       "      <td>45</td>\n",
       "      <td>16.9979</td>\n",
       "    </tr>\n",
       "  </tbody>\n",
       "</table>\n",
       "</div>"
      ],
      "text/plain": [
       "                     season  holiday  workingday  weather   temp   atemp  \\\n",
       "datetime                                                                   \n",
       "2011-07-06 05:00:00       3        0           1        1  27.88  31.820   \n",
       "2012-08-04 16:00:00       3        0           0        1  36.90  40.910   \n",
       "2012-07-11 15:00:00       3        0           1        1  32.80  35.605   \n",
       "2011-04-10 04:00:00       2        0           0        2  14.76  18.180   \n",
       "2011-11-19 10:00:00       4        0           0        1  13.12  15.150   \n",
       "\n",
       "                     humidity  windspeed  \n",
       "datetime                                  \n",
       "2011-07-06 05:00:00        83     6.0032  \n",
       "2012-08-04 16:00:00        39    19.9995  \n",
       "2012-07-11 15:00:00        41    16.9979  \n",
       "2011-04-10 04:00:00        93     7.0015  \n",
       "2011-11-19 10:00:00        45    16.9979  "
      ]
     },
     "execution_count": 73,
     "metadata": {},
     "output_type": "execute_result"
    }
   ],
   "source": [
    "X_train.head()"
   ]
  },
  {
   "cell_type": "code",
   "execution_count": 25,
   "id": "88192274",
   "metadata": {},
   "outputs": [
    {
     "data": {
      "text/plain": [
       "Pipeline(steps=[('preprocessor',\n",
       "                 ColumnTransformer(transformers=[('numeric',\n",
       "                                                  Pipeline(steps=[('imputer',\n",
       "                                                                   SimpleImputer(strategy='median')),\n",
       "                                                                  ('scaler',\n",
       "                                                                   StandardScaler())]),\n",
       "                                                  ['temp', 'atemp', 'humidity',\n",
       "                                                   'windspeed']),\n",
       "                                                 ('categorical',\n",
       "                                                  Pipeline(steps=[('timebreakdown',\n",
       "                                                                   FunctionTransformer(func=<function timebreakdown at 0x7ff4db9f9d30>)),\n",
       "                                                                  ('day_period_step',\n",
       "                                                                   FunctionTransformer(func=<function day_period_dataframe at 0x7ff4db9f9550>)),\n",
       "                                                                  ('onehot',\n",
       "                                                                   OneHotEncoder(handle_unknown='ignore'))]),\n",
       "                                                  ['season', 'holiday',\n",
       "                                                   'workingday',\n",
       "                                                   'weather'])])),\n",
       "                ('LinReg', LinearRegression())])"
      ]
     },
     "execution_count": 25,
     "metadata": {},
     "output_type": "execute_result"
    }
   ],
   "source": [
    "pipeline.fit(X_train, y_train)"
   ]
  },
  {
   "cell_type": "code",
   "execution_count": 103,
   "id": "9fc7ed73",
   "metadata": {},
   "outputs": [
    {
     "data": {
      "text/plain": [
       "(8708, 65)"
      ]
     },
     "execution_count": 103,
     "metadata": {},
     "output_type": "execute_result"
    }
   ],
   "source": [
    "preprocessor.fit_transform(X_train).shape"
   ]
  },
  {
   "cell_type": "code",
   "execution_count": 26,
   "id": "88dd5929",
   "metadata": {},
   "outputs": [
    {
     "data": {
      "text/plain": [
       "dict_keys(['memory', 'steps', 'verbose', 'preprocessor', 'LinReg', 'preprocessor__n_jobs', 'preprocessor__remainder', 'preprocessor__sparse_threshold', 'preprocessor__transformer_weights', 'preprocessor__transformers', 'preprocessor__verbose', 'preprocessor__verbose_feature_names_out', 'preprocessor__numeric', 'preprocessor__categorical', 'preprocessor__numeric__memory', 'preprocessor__numeric__steps', 'preprocessor__numeric__verbose', 'preprocessor__numeric__imputer', 'preprocessor__numeric__scaler', 'preprocessor__numeric__imputer__add_indicator', 'preprocessor__numeric__imputer__copy', 'preprocessor__numeric__imputer__fill_value', 'preprocessor__numeric__imputer__missing_values', 'preprocessor__numeric__imputer__strategy', 'preprocessor__numeric__imputer__verbose', 'preprocessor__numeric__scaler__copy', 'preprocessor__numeric__scaler__with_mean', 'preprocessor__numeric__scaler__with_std', 'preprocessor__categorical__memory', 'preprocessor__categorical__steps', 'preprocessor__categorical__verbose', 'preprocessor__categorical__timebreakdown', 'preprocessor__categorical__day_period_step', 'preprocessor__categorical__onehot', 'preprocessor__categorical__timebreakdown__accept_sparse', 'preprocessor__categorical__timebreakdown__check_inverse', 'preprocessor__categorical__timebreakdown__func', 'preprocessor__categorical__timebreakdown__inv_kw_args', 'preprocessor__categorical__timebreakdown__inverse_func', 'preprocessor__categorical__timebreakdown__kw_args', 'preprocessor__categorical__timebreakdown__validate', 'preprocessor__categorical__day_period_step__accept_sparse', 'preprocessor__categorical__day_period_step__check_inverse', 'preprocessor__categorical__day_period_step__func', 'preprocessor__categorical__day_period_step__inv_kw_args', 'preprocessor__categorical__day_period_step__inverse_func', 'preprocessor__categorical__day_period_step__kw_args', 'preprocessor__categorical__day_period_step__validate', 'preprocessor__categorical__onehot__categories', 'preprocessor__categorical__onehot__drop', 'preprocessor__categorical__onehot__dtype', 'preprocessor__categorical__onehot__handle_unknown', 'preprocessor__categorical__onehot__sparse', 'LinReg__copy_X', 'LinReg__fit_intercept', 'LinReg__n_jobs', 'LinReg__normalize', 'LinReg__positive'])"
      ]
     },
     "execution_count": 26,
     "metadata": {},
     "output_type": "execute_result"
    }
   ],
   "source": [
    "pipeline.get_params().keys()"
   ]
  },
  {
   "cell_type": "code",
   "execution_count": 28,
   "id": "f3a2a1a1",
   "metadata": {},
   "outputs": [
    {
     "data": {
      "text/plain": [
       "array([229.35978279,  15.96732753, 349.40097489, ..., 286.59679322,\n",
       "       -33.50005051, 266.78655827])"
      ]
     },
     "execution_count": 28,
     "metadata": {},
     "output_type": "execute_result"
    }
   ],
   "source": [
    "y_pred = pipeline.predict(X_test)\n",
    "y_pred"
   ]
  },
  {
   "cell_type": "code",
   "execution_count": 34,
   "id": "baa125d0",
   "metadata": {},
   "outputs": [
    {
     "data": {
      "text/plain": [
       "array([229.35978279,  15.96732753, 349.40097489, ..., 286.59679322,\n",
       "         0.        , 266.78655827])"
      ]
     },
     "execution_count": 34,
     "metadata": {},
     "output_type": "execute_result"
    }
   ],
   "source": [
    "y_pred[y_pred<0] = 0\n",
    "y_pred"
   ]
  },
  {
   "cell_type": "code",
   "execution_count": 40,
   "id": "43d53a02",
   "metadata": {},
   "outputs": [
    {
     "name": "stdout",
     "output_type": "stream",
     "text": [
      "<class 'pandas.core.series.Series'>\n",
      "DatetimeIndex: 2178 entries, 2011-07-19 11:00:00 to 2012-05-15 13:00:00\n",
      "Series name: count\n",
      "Non-Null Count  Dtype\n",
      "--------------  -----\n",
      "2178 non-null   int64\n",
      "dtypes: int64(1)\n",
      "memory usage: 34.0 KB\n"
     ]
    }
   ],
   "source": [
    "y_test.info()"
   ]
  },
  {
   "cell_type": "code",
   "execution_count": 44,
   "id": "69397f2b",
   "metadata": {
    "scrolled": true
   },
   "outputs": [],
   "source": [
    "y_pred_series=pd.Series(y_pred)"
   ]
  },
  {
   "cell_type": "code",
   "execution_count": 123,
   "id": "3ac79052",
   "metadata": {},
   "outputs": [],
   "source": [
    "#print(classification_report(y_test, y_pred_series))\n",
    "#print(accuracy_score(y_test, y_pred_series))"
   ]
  },
  {
   "cell_type": "code",
   "execution_count": 93,
   "id": "57c06e09",
   "metadata": {},
   "outputs": [
    {
     "data": {
      "text/plain": [
       "Pipeline(steps=[('preprocessor',\n",
       "                 ColumnTransformer(transformers=[('numeric',\n",
       "                                                  Pipeline(steps=[('imputer',\n",
       "                                                                   SimpleImputer(strategy='median')),\n",
       "                                                                  ('scaler',\n",
       "                                                                   StandardScaler())]),\n",
       "                                                  ['temp', 'atemp', 'humidity',\n",
       "                                                   'windspeed']),\n",
       "                                                 ('categorical',\n",
       "                                                  Pipeline(steps=[('timebreakdown',\n",
       "                                                                   FunctionTransformer(func=<function timebreakdown at 0x7ff4db9f9d30>)),\n",
       "                                                                  ('day_period_step',\n",
       "                                                                   FunctionTransformer(func=<function day_period_dataframe at 0x7ff4db9f9550>)),\n",
       "                                                                  ('onehot',\n",
       "                                                                   OneHotEncoder(handle_unknown='ignore'))]),\n",
       "                                                  ['season', 'holiday',\n",
       "                                                   'workingday',\n",
       "                                                   'weather'])])),\n",
       "                ('RFG', RandomForestRegressor())])"
      ]
     },
     "execution_count": 93,
     "metadata": {},
     "output_type": "execute_result"
    }
   ],
   "source": [
    "# Comparing with Random Forest Regressor\n",
    "final_steps2 = [('preprocessor', preprocessor),\n",
    "     ('RFG', RandomForestRegressor())]\n",
    "pipeline = Pipeline(final_steps2)\n",
    "pipeline\n",
    "X_train, X_test, y_train, y_test = train_test_split(X, y, \n",
    "                                    test_size = 0.2, random_state=42)\n",
    "pipeline.fit(X_train, y_train)"
   ]
  },
  {
   "cell_type": "code",
   "execution_count": 60,
   "id": "87a7ec20",
   "metadata": {},
   "outputs": [
    {
     "data": {
      "text/plain": [
       "array([142.9 ,  20.88, 153.35, ..., 477.4 ,   7.09, 150.41])"
      ]
     },
     "execution_count": 60,
     "metadata": {},
     "output_type": "execute_result"
    }
   ],
   "source": [
    "y_pred2 = pipeline.predict(X_test)\n",
    "y_pred2"
   ]
  },
  {
   "cell_type": "code",
   "execution_count": 74,
   "id": "4fb4728e",
   "metadata": {
    "scrolled": true
   },
   "outputs": [
    {
     "data": {
      "text/plain": [
       "1.0912383313462386"
      ]
     },
     "execution_count": 74,
     "metadata": {},
     "output_type": "execute_result"
    }
   ],
   "source": [
    "mean_squared_log_error(y_test,y_pred,squared=False)"
   ]
  },
  {
   "cell_type": "code",
   "execution_count": 64,
   "id": "875b1e20",
   "metadata": {},
   "outputs": [
    {
     "data": {
      "text/plain": [
       "0.34324372475325987"
      ]
     },
     "execution_count": 64,
     "metadata": {},
     "output_type": "execute_result"
    }
   ],
   "source": [
    "mean_squared_log_error(y_test,y_pred2,squared=False)"
   ]
  },
  {
   "cell_type": "code",
   "execution_count": 100,
   "id": "1ecdbac0",
   "metadata": {},
   "outputs": [
    {
     "data": {
      "text/html": [
       "<div>\n",
       "<style scoped>\n",
       "    .dataframe tbody tr th:only-of-type {\n",
       "        vertical-align: middle;\n",
       "    }\n",
       "\n",
       "    .dataframe tbody tr th {\n",
       "        vertical-align: top;\n",
       "    }\n",
       "\n",
       "    .dataframe thead th {\n",
       "        text-align: right;\n",
       "    }\n",
       "</style>\n",
       "<table border=\"1\" class=\"dataframe\">\n",
       "  <thead>\n",
       "    <tr style=\"text-align: right;\">\n",
       "      <th></th>\n",
       "      <th>season</th>\n",
       "      <th>holiday</th>\n",
       "      <th>workingday</th>\n",
       "      <th>weather</th>\n",
       "      <th>temp</th>\n",
       "      <th>atemp</th>\n",
       "      <th>humidity</th>\n",
       "      <th>windspeed</th>\n",
       "    </tr>\n",
       "    <tr>\n",
       "      <th>datetime</th>\n",
       "      <th></th>\n",
       "      <th></th>\n",
       "      <th></th>\n",
       "      <th></th>\n",
       "      <th></th>\n",
       "      <th></th>\n",
       "      <th></th>\n",
       "      <th></th>\n",
       "    </tr>\n",
       "  </thead>\n",
       "  <tbody>\n",
       "    <tr>\n",
       "      <th>2011-01-20 00:00:00</th>\n",
       "      <td>1</td>\n",
       "      <td>0</td>\n",
       "      <td>1</td>\n",
       "      <td>1</td>\n",
       "      <td>10.66</td>\n",
       "      <td>11.365</td>\n",
       "      <td>56</td>\n",
       "      <td>26.0027</td>\n",
       "    </tr>\n",
       "    <tr>\n",
       "      <th>2011-01-20 01:00:00</th>\n",
       "      <td>1</td>\n",
       "      <td>0</td>\n",
       "      <td>1</td>\n",
       "      <td>1</td>\n",
       "      <td>10.66</td>\n",
       "      <td>13.635</td>\n",
       "      <td>56</td>\n",
       "      <td>0.0000</td>\n",
       "    </tr>\n",
       "    <tr>\n",
       "      <th>2011-01-20 02:00:00</th>\n",
       "      <td>1</td>\n",
       "      <td>0</td>\n",
       "      <td>1</td>\n",
       "      <td>1</td>\n",
       "      <td>10.66</td>\n",
       "      <td>13.635</td>\n",
       "      <td>56</td>\n",
       "      <td>0.0000</td>\n",
       "    </tr>\n",
       "    <tr>\n",
       "      <th>2011-01-20 03:00:00</th>\n",
       "      <td>1</td>\n",
       "      <td>0</td>\n",
       "      <td>1</td>\n",
       "      <td>1</td>\n",
       "      <td>10.66</td>\n",
       "      <td>12.880</td>\n",
       "      <td>56</td>\n",
       "      <td>11.0014</td>\n",
       "    </tr>\n",
       "    <tr>\n",
       "      <th>2011-01-20 04:00:00</th>\n",
       "      <td>1</td>\n",
       "      <td>0</td>\n",
       "      <td>1</td>\n",
       "      <td>1</td>\n",
       "      <td>10.66</td>\n",
       "      <td>12.880</td>\n",
       "      <td>56</td>\n",
       "      <td>11.0014</td>\n",
       "    </tr>\n",
       "    <tr>\n",
       "      <th>...</th>\n",
       "      <td>...</td>\n",
       "      <td>...</td>\n",
       "      <td>...</td>\n",
       "      <td>...</td>\n",
       "      <td>...</td>\n",
       "      <td>...</td>\n",
       "      <td>...</td>\n",
       "      <td>...</td>\n",
       "    </tr>\n",
       "    <tr>\n",
       "      <th>2012-12-31 19:00:00</th>\n",
       "      <td>1</td>\n",
       "      <td>0</td>\n",
       "      <td>1</td>\n",
       "      <td>2</td>\n",
       "      <td>10.66</td>\n",
       "      <td>12.880</td>\n",
       "      <td>60</td>\n",
       "      <td>11.0014</td>\n",
       "    </tr>\n",
       "    <tr>\n",
       "      <th>2012-12-31 20:00:00</th>\n",
       "      <td>1</td>\n",
       "      <td>0</td>\n",
       "      <td>1</td>\n",
       "      <td>2</td>\n",
       "      <td>10.66</td>\n",
       "      <td>12.880</td>\n",
       "      <td>60</td>\n",
       "      <td>11.0014</td>\n",
       "    </tr>\n",
       "    <tr>\n",
       "      <th>2012-12-31 21:00:00</th>\n",
       "      <td>1</td>\n",
       "      <td>0</td>\n",
       "      <td>1</td>\n",
       "      <td>1</td>\n",
       "      <td>10.66</td>\n",
       "      <td>12.880</td>\n",
       "      <td>60</td>\n",
       "      <td>11.0014</td>\n",
       "    </tr>\n",
       "    <tr>\n",
       "      <th>2012-12-31 22:00:00</th>\n",
       "      <td>1</td>\n",
       "      <td>0</td>\n",
       "      <td>1</td>\n",
       "      <td>1</td>\n",
       "      <td>10.66</td>\n",
       "      <td>13.635</td>\n",
       "      <td>56</td>\n",
       "      <td>8.9981</td>\n",
       "    </tr>\n",
       "    <tr>\n",
       "      <th>2012-12-31 23:00:00</th>\n",
       "      <td>1</td>\n",
       "      <td>0</td>\n",
       "      <td>1</td>\n",
       "      <td>1</td>\n",
       "      <td>10.66</td>\n",
       "      <td>13.635</td>\n",
       "      <td>65</td>\n",
       "      <td>8.9981</td>\n",
       "    </tr>\n",
       "  </tbody>\n",
       "</table>\n",
       "<p>6493 rows × 8 columns</p>\n",
       "</div>"
      ],
      "text/plain": [
       "                     season  holiday  workingday  weather   temp   atemp  \\\n",
       "datetime                                                                   \n",
       "2011-01-20 00:00:00       1        0           1        1  10.66  11.365   \n",
       "2011-01-20 01:00:00       1        0           1        1  10.66  13.635   \n",
       "2011-01-20 02:00:00       1        0           1        1  10.66  13.635   \n",
       "2011-01-20 03:00:00       1        0           1        1  10.66  12.880   \n",
       "2011-01-20 04:00:00       1        0           1        1  10.66  12.880   \n",
       "...                     ...      ...         ...      ...    ...     ...   \n",
       "2012-12-31 19:00:00       1        0           1        2  10.66  12.880   \n",
       "2012-12-31 20:00:00       1        0           1        2  10.66  12.880   \n",
       "2012-12-31 21:00:00       1        0           1        1  10.66  12.880   \n",
       "2012-12-31 22:00:00       1        0           1        1  10.66  13.635   \n",
       "2012-12-31 23:00:00       1        0           1        1  10.66  13.635   \n",
       "\n",
       "                     humidity  windspeed  \n",
       "datetime                                  \n",
       "2011-01-20 00:00:00        56    26.0027  \n",
       "2011-01-20 01:00:00        56     0.0000  \n",
       "2011-01-20 02:00:00        56     0.0000  \n",
       "2011-01-20 03:00:00        56    11.0014  \n",
       "2011-01-20 04:00:00        56    11.0014  \n",
       "...                       ...        ...  \n",
       "2012-12-31 19:00:00        60    11.0014  \n",
       "2012-12-31 20:00:00        60    11.0014  \n",
       "2012-12-31 21:00:00        60    11.0014  \n",
       "2012-12-31 22:00:00        56     8.9981  \n",
       "2012-12-31 23:00:00        65     8.9981  \n",
       "\n",
       "[6493 rows x 8 columns]"
      ]
     },
     "execution_count": 100,
     "metadata": {},
     "output_type": "execute_result"
    }
   ],
   "source": [
    "final_test=pd.read_csv('test.csv', parse_dates=True, index_col=0 )\n",
    "final_test"
   ]
  },
  {
   "cell_type": "code",
   "execution_count": 101,
   "id": "d02516e1",
   "metadata": {},
   "outputs": [
    {
     "data": {
      "text/plain": [
       "array([ 11.12,   4.2 ,   3.33, ..., 124.49,  95.18,  47.94])"
      ]
     },
     "execution_count": 101,
     "metadata": {},
     "output_type": "execute_result"
    }
   ],
   "source": [
    "predictions = pipeline.predict(final_test)\n",
    "predictions"
   ]
  },
  {
   "cell_type": "code",
   "execution_count": 106,
   "id": "b4e13803",
   "metadata": {},
   "outputs": [],
   "source": [
    "bike_predictions = pd.Series(predictions)"
   ]
  },
  {
   "cell_type": "code",
   "execution_count": 108,
   "id": "10fd5a4c",
   "metadata": {},
   "outputs": [
    {
     "name": "stdout",
     "output_type": "stream",
     "text": [
      "Saved file: bike_predictions.csv\n"
     ]
    }
   ],
   "source": [
    "filename = 'bike_predictions.csv'\n",
    "\n",
    "bike_predictions.to_csv(filename,index=False)\n",
    "\n",
    "print('Saved file: ' + filename)"
   ]
  },
  {
   "cell_type": "code",
   "execution_count": 119,
   "id": "81570c35",
   "metadata": {},
   "outputs": [],
   "source": [
    "bike_csv=pd.read_csv('Final Bike predictions formatted.csv', parse_dates=True, sep = \";\")"
   ]
  },
  {
   "cell_type": "code",
   "execution_count": 120,
   "id": "df5dbce0",
   "metadata": {
    "scrolled": false
   },
   "outputs": [
    {
     "data": {
      "text/html": [
       "<div>\n",
       "<style scoped>\n",
       "    .dataframe tbody tr th:only-of-type {\n",
       "        vertical-align: middle;\n",
       "    }\n",
       "\n",
       "    .dataframe tbody tr th {\n",
       "        vertical-align: top;\n",
       "    }\n",
       "\n",
       "    .dataframe thead th {\n",
       "        text-align: right;\n",
       "    }\n",
       "</style>\n",
       "<table border=\"1\" class=\"dataframe\">\n",
       "  <thead>\n",
       "    <tr style=\"text-align: right;\">\n",
       "      <th></th>\n",
       "      <th>datetime</th>\n",
       "      <th>count</th>\n",
       "    </tr>\n",
       "  </thead>\n",
       "  <tbody>\n",
       "    <tr>\n",
       "      <th>0</th>\n",
       "      <td>2011-01-20 00:00:00</td>\n",
       "      <td>11.12</td>\n",
       "    </tr>\n",
       "    <tr>\n",
       "      <th>1</th>\n",
       "      <td>2011-01-20 01:00:00</td>\n",
       "      <td>4.20</td>\n",
       "    </tr>\n",
       "    <tr>\n",
       "      <th>2</th>\n",
       "      <td>2011-01-20 02:00:00</td>\n",
       "      <td>3.33</td>\n",
       "    </tr>\n",
       "    <tr>\n",
       "      <th>3</th>\n",
       "      <td>2011-01-20 03:00:00</td>\n",
       "      <td>3.44</td>\n",
       "    </tr>\n",
       "    <tr>\n",
       "      <th>4</th>\n",
       "      <td>2011-01-20 04:00:00</td>\n",
       "      <td>2.51</td>\n",
       "    </tr>\n",
       "    <tr>\n",
       "      <th>...</th>\n",
       "      <td>...</td>\n",
       "      <td>...</td>\n",
       "    </tr>\n",
       "    <tr>\n",
       "      <th>6488</th>\n",
       "      <td>2012-12-31 19:00:00</td>\n",
       "      <td>203.99</td>\n",
       "    </tr>\n",
       "    <tr>\n",
       "      <th>6489</th>\n",
       "      <td>2012-12-31 20:00:00</td>\n",
       "      <td>169.03</td>\n",
       "    </tr>\n",
       "    <tr>\n",
       "      <th>6490</th>\n",
       "      <td>2012-12-31 21:00:00</td>\n",
       "      <td>124.49</td>\n",
       "    </tr>\n",
       "    <tr>\n",
       "      <th>6491</th>\n",
       "      <td>2012-12-31 22:00:00</td>\n",
       "      <td>95.18</td>\n",
       "    </tr>\n",
       "    <tr>\n",
       "      <th>6492</th>\n",
       "      <td>2012-12-31 23:00:00</td>\n",
       "      <td>47.94</td>\n",
       "    </tr>\n",
       "  </tbody>\n",
       "</table>\n",
       "<p>6493 rows × 2 columns</p>\n",
       "</div>"
      ],
      "text/plain": [
       "                 datetime   count\n",
       "0     2011-01-20 00:00:00   11.12\n",
       "1     2011-01-20 01:00:00    4.20\n",
       "2     2011-01-20 02:00:00    3.33\n",
       "3     2011-01-20 03:00:00    3.44\n",
       "4     2011-01-20 04:00:00    2.51\n",
       "...                   ...     ...\n",
       "6488  2012-12-31 19:00:00  203.99\n",
       "6489  2012-12-31 20:00:00  169.03\n",
       "6490  2012-12-31 21:00:00  124.49\n",
       "6491  2012-12-31 22:00:00   95.18\n",
       "6492  2012-12-31 23:00:00   47.94\n",
       "\n",
       "[6493 rows x 2 columns]"
      ]
     },
     "execution_count": 120,
     "metadata": {},
     "output_type": "execute_result"
    }
   ],
   "source": [
    "bike_csv"
   ]
  },
  {
   "cell_type": "code",
   "execution_count": 121,
   "id": "5e057653",
   "metadata": {},
   "outputs": [],
   "source": [
    "#bike_csv = bike_csv.set_index('datetime')\n",
    "#bike_csv"
   ]
  },
  {
   "cell_type": "code",
   "execution_count": 122,
   "id": "adb2f6db",
   "metadata": {},
   "outputs": [
    {
     "name": "stdout",
     "output_type": "stream",
     "text": [
      "Saved file: bike_csv.csv\n"
     ]
    }
   ],
   "source": [
    "filename = 'bike_csv.csv'\n",
    "\n",
    "bike_csv.to_csv(filename,index=False)\n",
    "\n",
    "print('Saved file: ' + filename)"
   ]
  }
 ],
 "metadata": {
  "kernelspec": {
   "display_name": "Python 3 (ipykernel)",
   "language": "python",
   "name": "python3"
  },
  "language_info": {
   "codemirror_mode": {
    "name": "ipython",
    "version": 3
   },
   "file_extension": ".py",
   "mimetype": "text/x-python",
   "name": "python",
   "nbconvert_exporter": "python",
   "pygments_lexer": "ipython3",
   "version": "3.9.12"
  }
 },
 "nbformat": 4,
 "nbformat_minor": 5
}
